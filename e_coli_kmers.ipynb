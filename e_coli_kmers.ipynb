{
 "cells": [
  {
   "cell_type": "markdown",
   "metadata": {},
   "source": [
    "## E. Coli sequence k-mer analysis\n",
    "This notebook explores the k-mer distribution of the E. coli genome"
   ]
  },
  {
   "cell_type": "code",
   "execution_count": 35,
   "metadata": {
    "collapsed": false
   },
   "outputs": [
    {
     "name": "stdout",
     "output_type": "stream",
     "text": [
      "TGTGGGGTCTCCCCATGCGAGAGTAGGGAACTGCCAGGCATCAAATCAAG...\n"
     ]
    }
   ],
   "source": [
    "from collections import Counter\n",
    "\n",
    "# parse sequence downloaded from Ensembl\n",
    "with open(\"Escherichia_coli_gca_000731455.V1.dna.toplevel.fa\", \"r\") as ecoli_genome:\n",
    "    sequence = \"\".join(l.strip() for l in ecoli_genome if not l.startswith(\">\"))\n",
    "print(sequence[:50] + \"...\")"
   ]
  },
  {
   "cell_type": "code",
   "execution_count": 36,
   "metadata": {
    "collapsed": false
   },
   "outputs": [],
   "source": [
    "# k-mer counting function\n",
    "def kmer_counts(seq, k):\n",
    "    counts = Counter()\n",
    "    for i in range(0, len(seq)-k+1):\n",
    "        counts[seq[i:(i+k)]] += 1\n",
    "    return counts\n",
    "\n",
    "assert kmer_counts(\"ATCAGTC\", 3) == Counter({'ATC':1, 'TCA':1, 'CAG': 1, 'AGT':1, 'GTC':1})"
   ]
  },
  {
   "cell_type": "code",
   "execution_count": 37,
   "metadata": {
    "collapsed": false
   },
   "outputs": [
    {
     "name": "stdout",
     "output_type": "stream",
     "text": [
      "Computing stats for k=30...\n",
      "Done\n"
     ]
    }
   ],
   "source": [
    "# compute number of distinct and unique k-mers over a grid of values for k\n",
    "import sys \n",
    "\n",
    "grid = range(10, 31)\n",
    "n_kmers = [0 for _ in grid]\n",
    "unique_kmers = [0 for _ in grid]\n",
    "\n",
    "for i, k in enumerate(grid):\n",
    "    sys.stdout.write('\\rComputing stats for k={0}...'.format(k))\n",
    "    sys.stdout.flush()\n",
    "    counts = kmer_counts(sequence, k)\n",
    "    n_kmers[i] = len(counts)\n",
    "    unique_kmers[i] = len([v for v in counts.values() if v == 1])\n",
    "print('\\nDone')"
   ]
  },
  {
   "cell_type": "code",
   "execution_count": 38,
   "metadata": {
    "collapsed": false
   },
   "outputs": [
    {
     "data": {
      "image/png": "[encoded data removed]",
      "text/plain": [
       "<matplotlib.figure.Figure at 0x1061299b0>"
      ]
     },
     "metadata": {},
     "output_type": "display_data"
    }
   ],
   "source": [
    "# plot results\n",
    "%matplotlib inline\n",
    "\n",
    "import matplotlib\n",
    "import numpy as np\n",
    "import matplotlib.pyplot as plt\n",
    "plt.rcParams[\"figure.figsize\"] = (12,4)\n",
    "\n",
    "plt.subplot(121)\n",
    "plt.plot(grid, [n/1e6 for n in n_kmers], '.-')\n",
    "plt.xlabel('k')\n",
    "plt.ylabel('# distinct million k-mers')\n",
    "plt.subplot(122)\n",
    "plt.plot(grid, [a/b*100 for a,b in zip(unique_kmers, n_kmers)], '.-')\n",
    "plt.xlabel('k')\n",
    "plt.ylabel('% of unique k-mers')\n",
    "plt.show()"
   ]
  },
  {
   "cell_type": "code",
   "execution_count": 39,
   "metadata": {
    "collapsed": false
   },
   "outputs": [
    {
     "name": "stdout",
     "output_type": "stream",
     "text": [
      "k=20: 4745899 distinct k-mers, 99.49708158559632% unique\n"
     ]
    }
   ],
   "source": [
    "k_val = 20\n",
    "k_index = grid.index(k_val)\n",
    "nk = n_kmers[k_index]\n",
    "ratio = unique_kmers[k_index] / nk * 100\n",
    "print(\"k={}: {} distinct k-mers, {}% unique\".format(k_val, nk, ratio))"
   ]
  },
  {
   "cell_type": "code",
   "execution_count": null,
   "metadata": {
    "collapsed": true
   },
   "outputs": [],
   "source": []
  }
 ],
 "metadata": {
  "kernelspec": {
   "display_name": "Python 3",
   "language": "python",
   "name": "python3"
  },
  "language_info": {
   "codemirror_mode": {
    "name": "ipython",
    "version": 3
   },
   "file_extension": ".py",
   "mimetype": "text/x-python",
   "name": "python",
   "nbconvert_exporter": "python",
   "pygments_lexer": "ipython3",
   "version": "3.5.2"
  }
 },
 "nbformat": 4,
 "nbformat_minor": 1
}
